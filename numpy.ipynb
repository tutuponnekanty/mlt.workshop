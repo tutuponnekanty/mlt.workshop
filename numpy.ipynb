{
 "cells": [
  {
   "cell_type": "markdown",
   "id": "8dc5f22a-3bc2-41d9-b7fb-f0e5e2cb69b1",
   "metadata": {},
   "source": [
    "## **_N U M P Y - Numerical Python_**\n",
    "    .Mostly usedin the context of representing Vectors and Matrices\n",
    "    .Similar to mathematics and mathematical operations\n",
    "    .represents lists and matrices in the form of arrays/lists known as numpy lists"
   ]
  },
  {
   "cell_type": "code",
   "execution_count": 53,
   "id": "1a8cd70e-bf71-4d47-9a02-a9da87e4b4fa",
   "metadata": {},
   "outputs": [],
   "source": [
    "import numpy as np"
   ]
  },
  {
   "cell_type": "code",
   "execution_count": 9,
   "id": "f05d62b5-cd36-42c7-886e-a5f8e60e0d22",
   "metadata": {},
   "outputs": [],
   "source": [
    "#Numpy Array Initialzation\n",
    "x= np.array([1,2,3])\n",
    "y= np.array([4,5,6])"
   ]
  },
  {
   "cell_type": "code",
   "execution_count": 10,
   "id": "ebb12a34-2d57-4ea7-9d9f-905f06625b3d",
   "metadata": {},
   "outputs": [
    {
     "name": "stdout",
     "output_type": "stream",
     "text": [
      "[5 7 9]\n"
     ]
    }
   ],
   "source": [
    "z=x+y\n",
    "print(z)"
   ]
  },
  {
   "cell_type": "code",
   "execution_count": 12,
   "id": "4f3a5415-ae41-40d2-91e6-eb5255812efa",
   "metadata": {},
   "outputs": [
    {
     "name": "stdout",
     "output_type": "stream",
     "text": [
      "[ 4 10 18]\n"
     ]
    }
   ],
   "source": [
    "#Array Multiplication\n",
    "z=x*y\n",
    "print(z)"
   ]
  },
  {
   "cell_type": "code",
   "execution_count": 22,
   "id": "cea46347-92bb-43e9-8138-09d330744839",
   "metadata": {},
   "outputs": [
    {
     "name": "stdout",
     "output_type": "stream",
     "text": [
      "[12 30 54]\n",
      "[12 30 54]\n"
     ]
    }
   ],
   "source": [
    "#Array Scaling - scaling a vector using a magniitude value x\n",
    "'''During Numpy scaling, a process called numpy-broadcasting happens that will help scale the vectors in their resultant form\n",
    "'''\n",
    "print(f\"{z*3}\")\n",
    "print(z*3)"
   ]
  },
  {
   "cell_type": "code",
   "execution_count": 23,
   "id": "a302281b-7d56-4587-a25b-737b0fba76fc",
   "metadata": {},
   "outputs": [
    {
     "name": "stdout",
     "output_type": "stream",
     "text": [
      "[ 16 100 324]\n"
     ]
    }
   ],
   "source": [
    "#Squaring\n",
    "print(z**2)"
   ]
  },
  {
   "cell_type": "code",
   "execution_count": 24,
   "id": "bf2c7f7a-0158-490b-8b09-22193ab25d9e",
   "metadata": {},
   "outputs": [
    {
     "data": {
      "text/plain": [
       "array([0.60205999, 1.        , 1.25527251])"
      ]
     },
     "execution_count": 24,
     "metadata": {},
     "output_type": "execute_result"
    }
   ],
   "source": [
    "np.log10(z)"
   ]
  },
  {
   "cell_type": "raw",
   "id": "33b952fa-166e-4827-af63-4bdb637e495c",
   "metadata": {},
   "source": [
    "print(z)"
   ]
  },
  {
   "cell_type": "code",
   "execution_count": 25,
   "id": "25f657bb-bec5-43a5-8838-868bf910457e",
   "metadata": {},
   "outputs": [
    {
     "name": "stdout",
     "output_type": "stream",
     "text": [
      "[ 4 10 18]\n"
     ]
    }
   ],
   "source": [
    "print(z)"
   ]
  },
  {
   "cell_type": "code",
   "execution_count": 26,
   "id": "9d4999f9-7e7f-43b0-b63e-0280d2316592",
   "metadata": {},
   "outputs": [
    {
     "name": "stdout",
     "output_type": "stream",
     "text": [
      "[1.38629436 2.30258509 2.89037176]\n"
     ]
    }
   ],
   "source": [
    "print(np.log(z))"
   ]
  },
  {
   "cell_type": "code",
   "execution_count": 30,
   "id": "edf25321-2cea-43ef-8ac8-919027a9aa8a",
   "metadata": {},
   "outputs": [
    {
     "name": "stdout",
     "output_type": "stream",
     "text": [
      "[ 6  7  8  9 10]\n"
     ]
    }
   ],
   "source": [
    "a=np.array([1,2,3,4,5])\n",
    "c=5 #some constant\n",
    "print(a+c)\n",
    "#c-->>[5,5,5,5,5] -> this is called as numpy broadcasting\n"
   ]
  },
  {
   "cell_type": "code",
   "execution_count": 37,
   "id": "7f0f73f7-5f02-4424-8561-84828d4d11cf",
   "metadata": {},
   "outputs": [
    {
     "data": {
      "text/plain": [
       "(2.718281828459045, 3.141592653589793, False)"
      ]
     },
     "execution_count": 37,
     "metadata": {},
     "output_type": "execute_result"
    }
   ],
   "source": [
    "#mathematical constants in numpy\n",
    "np.e, np.pi, np.False_"
   ]
  },
  {
   "cell_type": "code",
   "execution_count": 36,
   "id": "2e7a4f54-7248-4e03-bda2-185b8cee7566",
   "metadata": {},
   "outputs": [
    {
     "data": {
      "text/plain": [
       "(1000, 100000, 100000)"
      ]
     },
     "execution_count": 36,
     "metadata": {},
     "output_type": "execute_result"
    }
   ],
   "source": [
    "'''Note : Python's way of representing numericals with commas'''\n",
    "1_000, 100_000, 1_00_000"
   ]
  },
  {
   "cell_type": "code",
   "execution_count": 42,
   "id": "389d4ba3-d6c0-44e9-85f7-4f31e9faad3b",
   "metadata": {},
   "outputs": [
    {
     "data": {
      "text/plain": [
       "133"
      ]
     },
     "execution_count": 42,
     "metadata": {},
     "output_type": "execute_result"
    }
   ],
   "source": [
    "#Dot Product\n",
    "a=np.array([1,2,3,4,5,6])\n",
    "b=np.array([3,4,5,6,7,8])\n",
    "np.dot(a,b)"
   ]
  },
  {
   "cell_type": "code",
   "execution_count": 47,
   "id": "e67db4f4-23d2-42e8-8e2d-fdf2334beaf5",
   "metadata": {},
   "outputs": [
    {
     "name": "stdout",
     "output_type": "stream",
     "text": [
      "[0. 0. 0. 0. 0. 0.]\n",
      "[1. 1. 1. 1. 1. 1. 1. 1.]\n"
     ]
    }
   ],
   "source": [
    "#Zeros and Ones Vectors\n",
    "print(np.zeros(6))\n",
    "print(np.ones(8))"
   ]
  },
  {
   "cell_type": "code",
   "execution_count": 48,
   "id": "a8ce647e-c3f7-40d7-9ff5-52c5c2f0c4d8",
   "metadata": {},
   "outputs": [
    {
     "data": {
      "text/plain": [
       "\u001b[1;31mDocstring:\u001b[0m\n",
       "arange([start,] stop[, step,], dtype=None, *, like=None)\n",
       "\n",
       "Return evenly spaced values within a given interval.\n",
       "\n",
       "``arange`` can be called with a varying number of positional arguments:\n",
       "\n",
       "* ``arange(stop)``: Values are generated within the half-open interval\n",
       "  ``[0, stop)`` (in other words, the interval including `start` but\n",
       "  excluding `stop`).\n",
       "* ``arange(start, stop)``: Values are generated within the half-open\n",
       "  interval ``[start, stop)``.\n",
       "* ``arange(start, stop, step)`` Values are generated within the half-open\n",
       "  interval ``[start, stop)``, with spacing between values given by\n",
       "  ``step``.\n",
       "\n",
       "For integer arguments the function is roughly equivalent to the Python\n",
       "built-in :py:class:`range`, but returns an ndarray rather than a ``range``\n",
       "instance.\n",
       "\n",
       "When using a non-integer step, such as 0.1, it is often better to use\n",
       "`numpy.linspace`.\n",
       "\n",
       "See the Warning sections below for more information.\n",
       "\n",
       "Parameters\n",
       "----------\n",
       "start : integer or real, optional\n",
       "    Start of interval.  The interval includes this value.  The default\n",
       "    start value is 0.\n",
       "stop : integer or real\n",
       "    End of interval.  The interval does not include this value, except\n",
       "    in some cases where `step` is not an integer and floating point\n",
       "    round-off affects the length of `out`.\n",
       "step : integer or real, optional\n",
       "    Spacing between values.  For any output `out`, this is the distance\n",
       "    between two adjacent values, ``out[i+1] - out[i]``.  The default\n",
       "    step size is 1.  If `step` is specified as a position argument,\n",
       "    `start` must also be given.\n",
       "dtype : dtype, optional\n",
       "    The type of the output array.  If `dtype` is not given, infer the data\n",
       "    type from the other input arguments.\n",
       "like : array_like, optional\n",
       "    Reference object to allow the creation of arrays which are not\n",
       "    NumPy arrays. If an array-like passed in as ``like`` supports\n",
       "    the ``__array_function__`` protocol, the result will be defined\n",
       "    by it. In this case, it ensures the creation of an array object\n",
       "    compatible with that passed in via this argument.\n",
       "\n",
       "    .. versionadded:: 1.20.0\n",
       "\n",
       "Returns\n",
       "-------\n",
       "arange : ndarray\n",
       "    Array of evenly spaced values.\n",
       "\n",
       "    For floating point arguments, the length of the result is\n",
       "    ``ceil((stop - start)/step)``.  Because of floating point overflow,\n",
       "    this rule may result in the last element of `out` being greater\n",
       "    than `stop`.\n",
       "\n",
       "Warnings\n",
       "--------\n",
       "The length of the output might not be numerically stable.\n",
       "\n",
       "Another stability issue is due to the internal implementation of\n",
       "`numpy.arange`.\n",
       "The actual step value used to populate the array is\n",
       "``dtype(start + step) - dtype(start)`` and not `step`. Precision loss\n",
       "can occur here, due to casting or due to using floating points when\n",
       "`start` is much larger than `step`. This can lead to unexpected\n",
       "behaviour. For example::\n",
       "\n",
       "  >>> np.arange(0, 5, 0.5, dtype=int)\n",
       "  array([0, 0, 0, 0, 0, 0, 0, 0, 0, 0])\n",
       "  >>> np.arange(-3, 3, 0.5, dtype=int)\n",
       "  array([-3, -2, -1,  0,  1,  2,  3,  4,  5,  6,  7,  8])\n",
       "\n",
       "In such cases, the use of `numpy.linspace` should be preferred.\n",
       "\n",
       "The built-in :py:class:`range` generates :std:doc:`Python built-in integers\n",
       "that have arbitrary size <python:c-api/long>`, while `numpy.arange`\n",
       "produces `numpy.int32` or `numpy.int64` numbers. This may result in\n",
       "incorrect results for large integer values::\n",
       "\n",
       "  >>> power = 40\n",
       "  >>> modulo = 10000\n",
       "  >>> x1 = [(n ** power) % modulo for n in range(8)]\n",
       "  >>> x2 = [(n ** power) % modulo for n in np.arange(8)]\n",
       "  >>> print(x1)\n",
       "  [0, 1, 7776, 8801, 6176, 625, 6576, 4001]  # correct\n",
       "  >>> print(x2)\n",
       "  [0, 1, 7776, 7185, 0, 5969, 4816, 3361]  # incorrect\n",
       "\n",
       "See Also\n",
       "--------\n",
       "numpy.linspace : Evenly spaced numbers with careful handling of endpoints.\n",
       "numpy.ogrid: Arrays of evenly spaced numbers in N-dimensions.\n",
       "numpy.mgrid: Grid-shaped arrays of evenly spaced numbers in N-dimensions.\n",
       ":ref:`how-to-partition`\n",
       "\n",
       "Examples\n",
       "--------\n",
       ">>> np.arange(3)\n",
       "array([0, 1, 2])\n",
       ">>> np.arange(3.0)\n",
       "array([ 0.,  1.,  2.])\n",
       ">>> np.arange(3,7)\n",
       "array([3, 4, 5, 6])\n",
       ">>> np.arange(3,7,2)\n",
       "array([3, 5])\n",
       "\u001b[1;31mType:\u001b[0m      builtin_function_or_method"
      ]
     },
     "metadata": {},
     "output_type": "display_data"
    }
   ],
   "source": [
    "np.arange?"
   ]
  },
  {
   "cell_type": "code",
   "execution_count": 50,
   "id": "c04b45f3-263b-4acc-9ef7-cb0616e02a1d",
   "metadata": {},
   "outputs": [
    {
     "data": {
      "text/plain": [
       "array([1, 2, 3, 4, 5])"
      ]
     },
     "execution_count": 50,
     "metadata": {},
     "output_type": "execute_result"
    }
   ],
   "source": [
    "np.arange(1,6)"
   ]
  },
  {
   "cell_type": "code",
   "execution_count": 51,
   "id": "1308faf5-ce42-4703-bce7-3647adad00d5",
   "metadata": {},
   "outputs": [
    {
     "data": {
      "text/plain": [
       "[1, 2, 3, 4, 5]"
      ]
     },
     "execution_count": 51,
     "metadata": {},
     "output_type": "execute_result"
    }
   ],
   "source": [
    "list(range(1,6))"
   ]
  },
  {
   "cell_type": "code",
   "execution_count": 52,
   "id": "4c060a99-c37a-4cf1-b866-8078a8c5a5fc",
   "metadata": {},
   "outputs": [
    {
     "data": {
      "text/plain": [
       "array([0. , 0.5, 1. , 1.5, 2. , 2.5, 3. , 3.5, 4. , 4.5, 5. , 5.5, 6. ,\n",
       "       6.5])"
      ]
     },
     "execution_count": 52,
     "metadata": {},
     "output_type": "execute_result"
    }
   ],
   "source": [
    "np.arange(0,7,0.5)"
   ]
  },
  {
   "cell_type": "markdown",
   "id": "17dff665-0d3c-4b80-b235-aa1705cda9fe",
   "metadata": {},
   "source": [
    "## Norm of a vector\n",
    "\n",
    "For a vector $\\mathbf{x}$:\n",
    "\n",
    "$$\n",
    "\\mathbf{x} = \\begin{bmatrix}\n",
    "1\\\\\n",
    "2\\\\\n",
    "3\n",
    "\\end{bmatrix}\n",
    "$$\n",
    "\n",
    "The $L_2$ norm is defind as:\n",
    "\n",
    "$$\n",
    "||\\mathbf{x}||_2 = \\sqrt{1^2 + 2^2 + 3^2} = \\sqrt{14}\n",
    "$$\n",
    "\n",
    "The $L_1$ norm is defind as:\n",
    "\n",
    "$$\n",
    "||\\mathbf{x}||_1 = |1| + |2| + |3| = 6\n",
    "$$\n",
    "\n",
    "In `NumPy`:"
   ]
  },
  {
   "cell_type": "code",
   "execution_count": 56,
   "id": "8e9d6d1c-915b-4dca-8d4d-12074321a81c",
   "metadata": {},
   "outputs": [
    {
     "name": "stdout",
     "output_type": "stream",
     "text": [
      "7.416198487095663\n"
     ]
    }
   ],
   "source": [
    "#L2 Norm\n",
    "x=np.array([1,2,3,4,5])\n",
    "nrm=np.linalg.norm(x)\n",
    "print(nrm)"
   ]
  },
  {
   "cell_type": "code",
   "execution_count": 59,
   "id": "bdefa0eb-08d8-47cf-86c4-da3d72701fd2",
   "metadata": {},
   "outputs": [
    {
     "data": {
      "text/plain": [
       "6.0"
      ]
     },
     "execution_count": 59,
     "metadata": {},
     "output_type": "execute_result"
    }
   ],
   "source": [
    "# L1-norm\n",
    "x = np.array([1, 2, 3])\n",
    "norm = np.linalg.norm(x, ord = 1)\n",
    "norm \n",
    "\n",
    "#We can get L1 norm by also changing the ord to 2"
   ]
  },
  {
   "cell_type": "markdown",
   "id": "f079178b-6149-4ace-b397-8d35dbdf9f99",
   "metadata": {},
   "source": [
    "## Shape, Size, Dimension of a Vector\n",
    "\n",
    "- **Shape**: This refers to the $ n \\times n $ representation of a vector if it is considered in \\( n \\)-dimensional space.\n",
    "\n",
    "- **Dimension (ndim)**: This indicates the dimensional space the vector exists in.\n",
    "    > In linear algebra, the dimension of a vector with 4 elements is represented as $\\mathbb{R}^{4}$.  \n",
    "    > However, in NumPy, we can represent it in a single line as a one-dimensional array.\n",
    "\n",
    "- **Size**: This represents the total number of elements present in the vector/the numpy array.\n"
   ]
  },
  {
   "cell_type": "code",
   "execution_count": 61,
   "id": "3c523afa-58b5-4a2c-9efd-699f8d1e64df",
   "metadata": {},
   "outputs": [
    {
     "name": "stdout",
     "output_type": "stream",
     "text": [
      "1 2\n"
     ]
    }
   ],
   "source": [
    "#Dimension\n",
    "test=np.array([1,2,3,4,5,6])\n",
    "test_2=np.array([[1,2,3,4,5],[5,6,7,8,9]])\n",
    "print(test.ndim, test_2.ndim)"
   ]
  },
  {
   "cell_type": "code",
   "execution_count": 62,
   "id": "cd43dea0-8c6b-4115-aca8-3870846ca7f4",
   "metadata": {},
   "outputs": [
    {
     "name": "stdout",
     "output_type": "stream",
     "text": [
      "(6,) (2, 5)\n"
     ]
    }
   ],
   "source": [
    "#Shape\n",
    "print(test.shape, test_2.shape)"
   ]
  },
  {
   "cell_type": "code",
   "execution_count": 64,
   "id": "7533cfa0-9609-46be-8a21-b8a8614df380",
   "metadata": {},
   "outputs": [
    {
     "name": "stdout",
     "output_type": "stream",
     "text": [
      "6 10\n"
     ]
    }
   ],
   "source": [
    "#Size\n",
    "print(test.size, test_2.size)"
   ]
  },
  {
   "cell_type": "markdown",
   "id": "caba7853-da38-4215-934a-8c7d6b44a91e",
   "metadata": {},
   "source": [
    "## "
   ]
  }
 ],
 "metadata": {
  "kernelspec": {
   "display_name": "Python 3 (ipykernel)",
   "language": "python",
   "name": "python3"
  },
  "language_info": {
   "codemirror_mode": {
    "name": "ipython",
    "version": 3
   },
   "file_extension": ".py",
   "mimetype": "text/x-python",
   "name": "python",
   "nbconvert_exporter": "python",
   "pygments_lexer": "ipython3",
   "version": "3.11.4"
  }
 },
 "nbformat": 4,
 "nbformat_minor": 5
}
